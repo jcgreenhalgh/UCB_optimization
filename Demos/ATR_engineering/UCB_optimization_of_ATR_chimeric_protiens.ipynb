{
 "cells": [
  {
   "cell_type": "code",
   "execution_count": 3,
   "metadata": {},
   "outputs": [],
   "source": [
    "import numpy as np \n",
    "import pandas as pd \n",
    "import itertools\n",
    "import sys\n",
    "\n",
    "from sklearn.preprocessing import OneHotEncoder\n",
    "from sklearn.gaussian_process import GaussianProcessRegressor\n",
    "\n",
    "# Direct to UCB_opt_tools module \n",
    "sys.path.append('../../')\n",
    "from UCB_opt_tools import UCB_opt\n",
    "from UCB_opt_tools import UCB_batch_mode\n",
    "\n",
    "\n",
    "\n",
    "import warnings\n",
    "\n",
    "warnings.filterwarnings('ignore')"
   ]
  },
  {
   "attachments": {},
   "cell_type": "markdown",
   "metadata": {},
   "source": [
    "# Load the data"
   ]
  },
  {
   "cell_type": "code",
   "execution_count": null,
   "metadata": {},
   "outputs": [],
   "source": [
    "df = pd.read_excel('data/RL08_Relabeled.xlsx', index_col=0)\n",
    "\n",
    "# Get rid of unnecessary columns\n",
    "df = df[['Final_Label', 'Block_seq', 'Sum C6-C16', 'AA_seq']]\n",
    "\n",
    "# Fill NaNs in 'Block_seq' and AA-seq\n",
    "df['Block_seq'].fillna('-', inplace=True)\n",
    "df['AA_seq'].fillna('-', inplace=True)\n",
    "\n",
    "\n",
    "# Rename titer column \n",
    "df = df.rename(columns={'Sum C6-C16':'titer', 'Final_Label':'name'})\n",
    "\n",
    "df.head()"
   ]
  },
  {
   "attachments": {},
   "cell_type": "markdown",
   "metadata": {},
   "source": [
    "# Cleaning and preprocessing"
   ]
  },
  {
   "cell_type": "code",
   "execution_count": null,
   "metadata": {},
   "outputs": [],
   "source": [
    "# Average the data\n",
    "df_avg = df.groupby(by=['name','Block_seq', 'AA_seq']).mean().reset_index()\n",
    "df_avg"
   ]
  },
  {
   "cell_type": "code",
   "execution_count": null,
   "metadata": {},
   "outputs": [],
   "source": [
    "# Clean up the data frame\n",
    "\n",
    "df_ucb = df_avg[['name', 'Block_seq', 'titer']]\n",
    "\n",
    "# Drop out instances that are problematic ()\n",
    "df_ucb = df_ucb[(~df_ucb['name'].str.contains(r'M[TB]-ACR')) & (~df_ucb['name'].str.contains(r'^Fusion'))].reset_index(drop=True) \n",
    "\n",
    "# Reformat the sequence column to make it easier to encode \n",
    "df_ucb['seq'] = df_ucb['Block_seq'].str.extract(r'(.)-') + df_ucb['Block_seq'].str.extract(r'-(.+)')\n",
    "df_ucb.drop('Block_seq', axis=1)\n",
    "df_ucb = df_ucb.dropna().reset_index(drop=True)\n",
    "df_ucb"
   ]
  },
  {
   "attachments": {},
   "cell_type": "markdown",
   "metadata": {},
   "source": [
    "# Encode the data "
   ]
  },
  {
   "cell_type": "code",
   "execution_count": null,
   "metadata": {},
   "outputs": [],
   "source": [
    "df_encode = df_ucb['seq'].str.split(r'',expand=True).drop([0,10],axis=1)\n",
    "df_encode\n",
    "\n",
    "ohc = OneHotEncoder()\n",
    "\n",
    "df_ohc = pd.DataFrame(ohc.fit_transform(df_encode).toarray())"
   ]
  },
  {
   "attachments": {},
   "cell_type": "markdown",
   "metadata": {},
   "source": [
    "# Data Walk (Normal UCB method)\n"
   ]
  },
  {
   "cell_type": "code",
   "execution_count": null,
   "metadata": {},
   "outputs": [],
   "source": [
    "# Specify a set of 3 proteins to use as a starting point (in this case, the three parental enzymes)\n",
    "df_start = df_ucb[df_ucb['name'].str.contains('Parent')]\n",
    "df_start_locs = list(df_start.index)\n",
    "\n",
    "# Get the initial one-hot encodings\n",
    "X_start = df_ohc.loc[df_start_locs]\n",
    "\n",
    "# Get the initial experimental measurements\n",
    "y_start = df_start['titer']\n",
    "\n",
    "# Set up the initial prediction space \n",
    "X_pred_start = df_ohc.drop(df_start_locs)\n",
    "\n",
    "\n",
    "# Copy the start variables to a variable that can be updated \n",
    "X_walk = X_start.copy().to_numpy()\n",
    "y_walk = list(y_start)\n",
    "X_pred_walk = X_pred_start.copy()\n",
    "\n",
    "\n",
    "# Start the walk through \n",
    "iters = 0 \n",
    "y_actual = 0 \n",
    "\n",
    "# Stop when reaching the actual optimum (since this is a simulated walk through an existing dataset)\n",
    "y_optimum = df_ucb['titer'].max()\n",
    "\n",
    "while y_actual < y_optimum and iters <=12:\n",
    "    # Determine the next point to sample \n",
    "    X_pred_opt, y_pred, ind = UCB_opt(X_walk, y_walk, X_pred_walk)\n",
    "\n",
    "    block_seq = ''.join(ohc.inverse_transform(X_pred_opt.reshape(1, -1))[0])\n",
    "\n",
    "    # Do an 'experiment' to reveal the true value of that point\n",
    "    y_actual = float(df_ucb[df_ucb['seq']==block_seq]['titer'])\n",
    "\n",
    "    # Update X_walk, y_walk, and X_pred_walk\n",
    "    y_walk.append(y_actual)\n",
    "    X_walk = np.vstack([X_walk, X_pred_opt])\n",
    "    X_pred_walk = X_pred_walk.drop(X_pred_walk.iloc[ind].name)\n",
    "\n",
    "    print(f'Iteration {iters}: {block_seq}, {round(y_actual,1)}')\n",
    "\n",
    "    iters += 1 \n",
    "\n"
   ]
  },
  {
   "cell_type": "code",
   "execution_count": null,
   "metadata": {},
   "outputs": [],
   "source": []
  }
 ],
 "metadata": {
  "kernelspec": {
   "display_name": "base",
   "language": "python",
   "name": "python3"
  },
  "language_info": {
   "codemirror_mode": {
    "name": "ipython",
    "version": 3
   },
   "file_extension": ".py",
   "mimetype": "text/x-python",
   "name": "python",
   "nbconvert_exporter": "python",
   "pygments_lexer": "ipython3",
   "version": "3.8.8"
  },
  "orig_nbformat": 4
 },
 "nbformat": 4,
 "nbformat_minor": 2
}
